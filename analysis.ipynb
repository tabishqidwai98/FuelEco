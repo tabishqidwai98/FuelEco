{
 "cells": [
  {
   "cell_type": "code",
   "execution_count": 100,
   "metadata": {},
   "outputs": [],
   "source": [
    "import pandas as pd"
   ]
  },
  {
   "cell_type": "code",
   "execution_count": 101,
   "metadata": {},
   "outputs": [],
   "source": [
    "import numpy as np\n",
    "import matplotlib.pyplot as plt\n",
    "import seaborn as sns"
   ]
  },
  {
   "cell_type": "code",
   "execution_count": 102,
   "metadata": {},
   "outputs": [],
   "source": [
    "from sklearn.model_selection import train_test_split\n",
    "from sklearn.ensemble import RandomForestRegressor\n",
    "from sklearn.preprocessing import StandardScaler"
   ]
  },
  {
   "cell_type": "code",
   "execution_count": 103,
   "metadata": {},
   "outputs": [
    {
     "name": "stderr",
     "output_type": "stream",
     "text": [
      "C:\\Users\\tabis\\AppData\\Local\\Temp\\ipykernel_12536\\3059042137.py:1: DtypeWarning: Columns (70,71,72,73,74,76,79) have mixed types. Specify dtype option on import or set low_memory=False.\n",
      "  df = pd.read_csv(\"vehicles.csv\")\n"
     ]
    }
   ],
   "source": [
    "df = pd.read_csv(\"vehicles.csv\")"
   ]
  },
  {
   "cell_type": "code",
   "execution_count": 104,
   "metadata": {
    "tags": []
   },
   "outputs": [
    {
     "name": "stdout",
     "output_type": "stream",
     "text": [
      "<class 'pandas.core.frame.DataFrame'>\n",
      "RangeIndex: 42215 entries, 0 to 42214\n",
      "Data columns (total 83 columns):\n",
      " #   Column           Non-Null Count  Dtype  \n",
      "---  ------           --------------  -----  \n",
      " 0   barrels08        42215 non-null  float64\n",
      " 1   barrelsA08       42215 non-null  float64\n",
      " 2   charge120        42215 non-null  float64\n",
      " 3   charge240        42215 non-null  float64\n",
      " 4   city08           42215 non-null  int64  \n",
      " 5   city08U          42215 non-null  float64\n",
      " 6   cityA08          42215 non-null  int64  \n",
      " 7   cityA08U         42215 non-null  float64\n",
      " 8   cityCD           42215 non-null  float64\n",
      " 9   cityE            42215 non-null  float64\n",
      " 10  cityUF           42215 non-null  float64\n",
      " 11  co2              42215 non-null  int64  \n",
      " 12  co2A             42215 non-null  int64  \n",
      " 13  co2TailpipeAGpm  42215 non-null  float64\n",
      " 14  co2TailpipeGpm   42215 non-null  float64\n",
      " 15  comb08           42215 non-null  int64  \n",
      " 16  comb08U          42215 non-null  float64\n",
      " 17  combA08          42215 non-null  int64  \n",
      " 18  combA08U         42215 non-null  float64\n",
      " 19  combE            42215 non-null  float64\n",
      " 20  combinedCD       42215 non-null  float64\n",
      " 21  combinedUF       42215 non-null  float64\n",
      " 22  cylinders        41976 non-null  float64\n",
      " 23  displ            41978 non-null  float64\n",
      " 24  drive            41026 non-null  object \n",
      " 25  engId            42215 non-null  int64  \n",
      " 26  eng_dscr         25888 non-null  object \n",
      " 27  feScore          42215 non-null  int64  \n",
      " 28  fuelCost08       42215 non-null  int64  \n",
      " 29  fuelCostA08      42215 non-null  int64  \n",
      " 30  fuelType         42215 non-null  object \n",
      " 31  fuelType1        42215 non-null  object \n",
      " 32  ghgScore         42215 non-null  int64  \n",
      " 33  ghgScoreA        42215 non-null  int64  \n",
      " 34  highway08        42215 non-null  int64  \n",
      " 35  highway08U       42215 non-null  float64\n",
      " 36  highwayA08       42215 non-null  int64  \n",
      " 37  highwayA08U      42215 non-null  float64\n",
      " 38  highwayCD        42215 non-null  float64\n",
      " 39  highwayE         42215 non-null  float64\n",
      " 40  highwayUF        42215 non-null  float64\n",
      " 41  hlv              42215 non-null  int64  \n",
      " 42  hpv              42215 non-null  int64  \n",
      " 43  id               42215 non-null  int64  \n",
      " 44  lv2              42215 non-null  int64  \n",
      " 45  lv4              42215 non-null  int64  \n",
      " 46  make             42215 non-null  object \n",
      " 47  model            42215 non-null  object \n",
      " 48  mpgData          42215 non-null  object \n",
      " 49  phevBlended      42215 non-null  bool   \n",
      " 50  pv2              42215 non-null  int64  \n",
      " 51  pv4              42215 non-null  int64  \n",
      " 52  range            42215 non-null  int64  \n",
      " 53  rangeCity        42215 non-null  float64\n",
      " 54  rangeCityA       42215 non-null  float64\n",
      " 55  rangeHwy         42215 non-null  float64\n",
      " 56  rangeHwyA        42215 non-null  float64\n",
      " 57  trany            42204 non-null  object \n",
      " 58  UCity            42215 non-null  float64\n",
      " 59  UCityA           42215 non-null  float64\n",
      " 60  UHighway         42215 non-null  float64\n",
      " 61  UHighwayA        42215 non-null  float64\n",
      " 62  VClass           42215 non-null  object \n",
      " 63  year             42215 non-null  int64  \n",
      " 64  youSaveSpend     42215 non-null  int64  \n",
      " 65  guzzler          2481 non-null   object \n",
      " 66  trans_dscr       15047 non-null  object \n",
      " 67  tCharger         7440 non-null   object \n",
      " 68  sCharger         878 non-null    object \n",
      " 69  atvType          3759 non-null   object \n",
      " 70  fuelType2        1671 non-null   object \n",
      " 71  rangeA           1666 non-null   object \n",
      " 72  evMotor          1006 non-null   object \n",
      " 73  mfrCode          11397 non-null  object \n",
      " 74  c240Dscr         101 non-null    object \n",
      " 75  charge240b       42215 non-null  float64\n",
      " 76  c240bDscr        95 non-null     object \n",
      " 77  createdOn        42215 non-null  object \n",
      " 78  modifiedOn       42215 non-null  object \n",
      " 79  startStop        10511 non-null  object \n",
      " 80  phevCity         42215 non-null  int64  \n",
      " 81  phevHwy          42215 non-null  int64  \n",
      " 82  phevComb         42215 non-null  int64  \n",
      "dtypes: bool(1), float64(32), int64(27), object(23)\n",
      "memory usage: 26.5+ MB\n"
     ]
    }
   ],
   "source": [
    "df.info()"
   ]
  },
  {
   "cell_type": "code",
   "execution_count": 105,
   "metadata": {},
   "outputs": [
    {
     "data": {
      "text/html": [
       "<div>\n",
       "<style scoped>\n",
       "    .dataframe tbody tr th:only-of-type {\n",
       "        vertical-align: middle;\n",
       "    }\n",
       "\n",
       "    .dataframe tbody tr th {\n",
       "        vertical-align: top;\n",
       "    }\n",
       "\n",
       "    .dataframe thead th {\n",
       "        text-align: right;\n",
       "    }\n",
       "</style>\n",
       "<table border=\"1\" class=\"dataframe\">\n",
       "  <thead>\n",
       "    <tr style=\"text-align: right;\">\n",
       "      <th></th>\n",
       "      <th>drive</th>\n",
       "      <th>eng_dscr</th>\n",
       "      <th>fuelType</th>\n",
       "      <th>fuelType1</th>\n",
       "      <th>make</th>\n",
       "      <th>model</th>\n",
       "      <th>mpgData</th>\n",
       "      <th>trany</th>\n",
       "      <th>VClass</th>\n",
       "      <th>guzzler</th>\n",
       "      <th>...</th>\n",
       "      <th>atvType</th>\n",
       "      <th>fuelType2</th>\n",
       "      <th>rangeA</th>\n",
       "      <th>evMotor</th>\n",
       "      <th>mfrCode</th>\n",
       "      <th>c240Dscr</th>\n",
       "      <th>c240bDscr</th>\n",
       "      <th>createdOn</th>\n",
       "      <th>modifiedOn</th>\n",
       "      <th>startStop</th>\n",
       "    </tr>\n",
       "  </thead>\n",
       "  <tbody>\n",
       "    <tr>\n",
       "      <th>count</th>\n",
       "      <td>41026</td>\n",
       "      <td>25888</td>\n",
       "      <td>42215</td>\n",
       "      <td>42215</td>\n",
       "      <td>42215</td>\n",
       "      <td>42215</td>\n",
       "      <td>42215</td>\n",
       "      <td>42204</td>\n",
       "      <td>42215</td>\n",
       "      <td>2481</td>\n",
       "      <td>...</td>\n",
       "      <td>3759</td>\n",
       "      <td>1671</td>\n",
       "      <td>1666</td>\n",
       "      <td>1006</td>\n",
       "      <td>11397</td>\n",
       "      <td>101</td>\n",
       "      <td>95</td>\n",
       "      <td>42215</td>\n",
       "      <td>42215</td>\n",
       "      <td>10511</td>\n",
       "    </tr>\n",
       "    <tr>\n",
       "      <th>unique</th>\n",
       "      <td>7</td>\n",
       "      <td>560</td>\n",
       "      <td>14</td>\n",
       "      <td>6</td>\n",
       "      <td>137</td>\n",
       "      <td>4214</td>\n",
       "      <td>2</td>\n",
       "      <td>38</td>\n",
       "      <td>34</td>\n",
       "      <td>3</td>\n",
       "      <td>...</td>\n",
       "      <td>8</td>\n",
       "      <td>4</td>\n",
       "      <td>231</td>\n",
       "      <td>168</td>\n",
       "      <td>49</td>\n",
       "      <td>5</td>\n",
       "      <td>7</td>\n",
       "      <td>310</td>\n",
       "      <td>175</td>\n",
       "      <td>2</td>\n",
       "    </tr>\n",
       "    <tr>\n",
       "      <th>top</th>\n",
       "      <td>Front-Wheel Drive</td>\n",
       "      <td>(FFS)</td>\n",
       "      <td>Regular</td>\n",
       "      <td>Regular Gasoline</td>\n",
       "      <td>Chevrolet</td>\n",
       "      <td>F150 Pickup 2WD</td>\n",
       "      <td>N</td>\n",
       "      <td>Automatic 4-spd</td>\n",
       "      <td>Compact Cars</td>\n",
       "      <td>G</td>\n",
       "      <td>...</td>\n",
       "      <td>FFV</td>\n",
       "      <td>E85</td>\n",
       "      <td>290</td>\n",
       "      <td>288V Ni-MH</td>\n",
       "      <td>GMX</td>\n",
       "      <td>standard charger</td>\n",
       "      <td>80 amp dual charger</td>\n",
       "      <td>Tue Jan 01 00:00:00 EST 2013</td>\n",
       "      <td>Tue Jan 01 00:00:00 EST 2013</td>\n",
       "      <td>N</td>\n",
       "    </tr>\n",
       "    <tr>\n",
       "      <th>freq</th>\n",
       "      <td>14506</td>\n",
       "      <td>8827</td>\n",
       "      <td>26903</td>\n",
       "      <td>28325</td>\n",
       "      <td>4086</td>\n",
       "      <td>224</td>\n",
       "      <td>28919</td>\n",
       "      <td>11048</td>\n",
       "      <td>5980</td>\n",
       "      <td>1502</td>\n",
       "      <td>...</td>\n",
       "      <td>1466</td>\n",
       "      <td>1466</td>\n",
       "      <td>74</td>\n",
       "      <td>131</td>\n",
       "      <td>1639</td>\n",
       "      <td>90</td>\n",
       "      <td>55</td>\n",
       "      <td>34217</td>\n",
       "      <td>29343</td>\n",
       "      <td>6663</td>\n",
       "    </tr>\n",
       "  </tbody>\n",
       "</table>\n",
       "<p>4 rows × 23 columns</p>\n",
       "</div>"
      ],
      "text/plain": [
       "                    drive eng_dscr fuelType         fuelType1       make  \\\n",
       "count               41026    25888    42215             42215      42215   \n",
       "unique                  7      560       14                 6        137   \n",
       "top     Front-Wheel Drive    (FFS)  Regular  Regular Gasoline  Chevrolet   \n",
       "freq                14506     8827    26903             28325       4086   \n",
       "\n",
       "                  model mpgData            trany        VClass guzzler  ...  \\\n",
       "count             42215   42215            42204         42215    2481  ...   \n",
       "unique             4214       2               38            34       3  ...   \n",
       "top     F150 Pickup 2WD       N  Automatic 4-spd  Compact Cars       G  ...   \n",
       "freq                224   28919            11048          5980    1502  ...   \n",
       "\n",
       "       atvType fuelType2 rangeA     evMotor mfrCode          c240Dscr  \\\n",
       "count     3759      1671   1666        1006   11397               101   \n",
       "unique       8         4    231         168      49                 5   \n",
       "top        FFV       E85    290  288V Ni-MH     GMX  standard charger   \n",
       "freq      1466      1466     74         131    1639                90   \n",
       "\n",
       "                  c240bDscr                     createdOn  \\\n",
       "count                    95                         42215   \n",
       "unique                    7                           310   \n",
       "top     80 amp dual charger  Tue Jan 01 00:00:00 EST 2013   \n",
       "freq                     55                         34217   \n",
       "\n",
       "                          modifiedOn startStop  \n",
       "count                          42215     10511  \n",
       "unique                           175         2  \n",
       "top     Tue Jan 01 00:00:00 EST 2013         N  \n",
       "freq                           29343      6663  \n",
       "\n",
       "[4 rows x 23 columns]"
      ]
     },
     "execution_count": 105,
     "metadata": {},
     "output_type": "execute_result"
    }
   ],
   "source": [
    "df.describe(include='object')"
   ]
  },
  {
   "cell_type": "code",
   "execution_count": 106,
   "metadata": {},
   "outputs": [
    {
     "data": {
      "text/html": [
       "<div>\n",
       "<style scoped>\n",
       "    .dataframe tbody tr th:only-of-type {\n",
       "        vertical-align: middle;\n",
       "    }\n",
       "\n",
       "    .dataframe tbody tr th {\n",
       "        vertical-align: top;\n",
       "    }\n",
       "\n",
       "    .dataframe thead th {\n",
       "        text-align: right;\n",
       "    }\n",
       "</style>\n",
       "<table border=\"1\" class=\"dataframe\">\n",
       "  <thead>\n",
       "    <tr style=\"text-align: right;\">\n",
       "      <th></th>\n",
       "      <th>barrels08</th>\n",
       "      <th>barrelsA08</th>\n",
       "      <th>charge120</th>\n",
       "      <th>charge240</th>\n",
       "      <th>city08</th>\n",
       "      <th>city08U</th>\n",
       "      <th>cityA08</th>\n",
       "      <th>cityA08U</th>\n",
       "      <th>cityCD</th>\n",
       "      <th>cityE</th>\n",
       "      <th>...</th>\n",
       "      <th>UCity</th>\n",
       "      <th>UCityA</th>\n",
       "      <th>UHighway</th>\n",
       "      <th>UHighwayA</th>\n",
       "      <th>year</th>\n",
       "      <th>youSaveSpend</th>\n",
       "      <th>charge240b</th>\n",
       "      <th>phevCity</th>\n",
       "      <th>phevHwy</th>\n",
       "      <th>phevComb</th>\n",
       "    </tr>\n",
       "  </thead>\n",
       "  <tbody>\n",
       "    <tr>\n",
       "      <th>count</th>\n",
       "      <td>42215.000000</td>\n",
       "      <td>42215.000000</td>\n",
       "      <td>42215.0</td>\n",
       "      <td>42215.000000</td>\n",
       "      <td>42215.000000</td>\n",
       "      <td>42215.000000</td>\n",
       "      <td>42215.000000</td>\n",
       "      <td>42215.000000</td>\n",
       "      <td>42215.000000</td>\n",
       "      <td>42215.000000</td>\n",
       "      <td>...</td>\n",
       "      <td>42215.000000</td>\n",
       "      <td>42215.000000</td>\n",
       "      <td>42215.000000</td>\n",
       "      <td>42215.000000</td>\n",
       "      <td>42215.000000</td>\n",
       "      <td>42215.000000</td>\n",
       "      <td>42215.000000</td>\n",
       "      <td>42215.000000</td>\n",
       "      <td>42215.000000</td>\n",
       "      <td>42215.000000</td>\n",
       "    </tr>\n",
       "    <tr>\n",
       "      <th>mean</th>\n",
       "      <td>17.210409</td>\n",
       "      <td>0.221828</td>\n",
       "      <td>0.0</td>\n",
       "      <td>0.054338</td>\n",
       "      <td>18.508895</td>\n",
       "      <td>6.432943</td>\n",
       "      <td>0.724577</td>\n",
       "      <td>0.582791</td>\n",
       "      <td>0.000450</td>\n",
       "      <td>0.393229</td>\n",
       "      <td>...</td>\n",
       "      <td>23.404218</td>\n",
       "      <td>0.946066</td>\n",
       "      <td>34.549509</td>\n",
       "      <td>1.226881</td>\n",
       "      <td>2002.004761</td>\n",
       "      <td>-3170.431126</td>\n",
       "      <td>0.012588</td>\n",
       "      <td>0.190264</td>\n",
       "      <td>0.191756</td>\n",
       "      <td>0.190098</td>\n",
       "    </tr>\n",
       "    <tr>\n",
       "      <th>std</th>\n",
       "      <td>4.647671</td>\n",
       "      <td>1.143207</td>\n",
       "      <td>0.0</td>\n",
       "      <td>0.663252</td>\n",
       "      <td>8.348540</td>\n",
       "      <td>12.171618</td>\n",
       "      <td>5.650156</td>\n",
       "      <td>5.520516</td>\n",
       "      <td>0.038279</td>\n",
       "      <td>4.231651</td>\n",
       "      <td>...</td>\n",
       "      <td>11.870560</td>\n",
       "      <td>7.944577</td>\n",
       "      <td>11.655846</td>\n",
       "      <td>8.326655</td>\n",
       "      <td>11.378644</td>\n",
       "      <td>2553.396936</td>\n",
       "      <td>0.278748</td>\n",
       "      <td>3.231757</td>\n",
       "      <td>3.123509</td>\n",
       "      <td>3.162830</td>\n",
       "    </tr>\n",
       "    <tr>\n",
       "      <th>min</th>\n",
       "      <td>0.060000</td>\n",
       "      <td>0.000000</td>\n",
       "      <td>0.0</td>\n",
       "      <td>0.000000</td>\n",
       "      <td>6.000000</td>\n",
       "      <td>0.000000</td>\n",
       "      <td>0.000000</td>\n",
       "      <td>0.000000</td>\n",
       "      <td>0.000000</td>\n",
       "      <td>0.000000</td>\n",
       "      <td>...</td>\n",
       "      <td>0.000000</td>\n",
       "      <td>0.000000</td>\n",
       "      <td>0.000000</td>\n",
       "      <td>0.000000</td>\n",
       "      <td>1984.000000</td>\n",
       "      <td>-23000.000000</td>\n",
       "      <td>0.000000</td>\n",
       "      <td>0.000000</td>\n",
       "      <td>0.000000</td>\n",
       "      <td>0.000000</td>\n",
       "    </tr>\n",
       "    <tr>\n",
       "      <th>25%</th>\n",
       "      <td>14.330870</td>\n",
       "      <td>0.000000</td>\n",
       "      <td>0.0</td>\n",
       "      <td>0.000000</td>\n",
       "      <td>15.000000</td>\n",
       "      <td>0.000000</td>\n",
       "      <td>0.000000</td>\n",
       "      <td>0.000000</td>\n",
       "      <td>0.000000</td>\n",
       "      <td>0.000000</td>\n",
       "      <td>...</td>\n",
       "      <td>18.300000</td>\n",
       "      <td>0.000000</td>\n",
       "      <td>28.000000</td>\n",
       "      <td>0.000000</td>\n",
       "      <td>1991.000000</td>\n",
       "      <td>-4750.000000</td>\n",
       "      <td>0.000000</td>\n",
       "      <td>0.000000</td>\n",
       "      <td>0.000000</td>\n",
       "      <td>0.000000</td>\n",
       "    </tr>\n",
       "    <tr>\n",
       "      <th>50%</th>\n",
       "      <td>16.480500</td>\n",
       "      <td>0.000000</td>\n",
       "      <td>0.0</td>\n",
       "      <td>0.000000</td>\n",
       "      <td>17.000000</td>\n",
       "      <td>0.000000</td>\n",
       "      <td>0.000000</td>\n",
       "      <td>0.000000</td>\n",
       "      <td>0.000000</td>\n",
       "      <td>0.000000</td>\n",
       "      <td>...</td>\n",
       "      <td>21.500000</td>\n",
       "      <td>0.000000</td>\n",
       "      <td>33.333300</td>\n",
       "      <td>0.000000</td>\n",
       "      <td>2003.000000</td>\n",
       "      <td>-2750.000000</td>\n",
       "      <td>0.000000</td>\n",
       "      <td>0.000000</td>\n",
       "      <td>0.000000</td>\n",
       "      <td>0.000000</td>\n",
       "    </tr>\n",
       "    <tr>\n",
       "      <th>75%</th>\n",
       "      <td>19.388824</td>\n",
       "      <td>0.000000</td>\n",
       "      <td>0.0</td>\n",
       "      <td>0.000000</td>\n",
       "      <td>21.000000</td>\n",
       "      <td>15.000000</td>\n",
       "      <td>0.000000</td>\n",
       "      <td>0.000000</td>\n",
       "      <td>0.000000</td>\n",
       "      <td>0.000000</td>\n",
       "      <td>...</td>\n",
       "      <td>26.000000</td>\n",
       "      <td>0.000000</td>\n",
       "      <td>39.100000</td>\n",
       "      <td>0.000000</td>\n",
       "      <td>2012.000000</td>\n",
       "      <td>-1250.000000</td>\n",
       "      <td>0.000000</td>\n",
       "      <td>0.000000</td>\n",
       "      <td>0.000000</td>\n",
       "      <td>0.000000</td>\n",
       "    </tr>\n",
       "    <tr>\n",
       "      <th>max</th>\n",
       "      <td>47.087143</td>\n",
       "      <td>18.311667</td>\n",
       "      <td>0.0</td>\n",
       "      <td>13.000000</td>\n",
       "      <td>150.000000</td>\n",
       "      <td>150.000000</td>\n",
       "      <td>145.000000</td>\n",
       "      <td>145.083500</td>\n",
       "      <td>5.350000</td>\n",
       "      <td>122.000000</td>\n",
       "      <td>...</td>\n",
       "      <td>224.800000</td>\n",
       "      <td>207.262200</td>\n",
       "      <td>187.100000</td>\n",
       "      <td>173.143600</td>\n",
       "      <td>2021.000000</td>\n",
       "      <td>3000.000000</td>\n",
       "      <td>8.500000</td>\n",
       "      <td>97.000000</td>\n",
       "      <td>81.000000</td>\n",
       "      <td>88.000000</td>\n",
       "    </tr>\n",
       "  </tbody>\n",
       "</table>\n",
       "<p>8 rows × 59 columns</p>\n",
       "</div>"
      ],
      "text/plain": [
       "          barrels08    barrelsA08  charge120     charge240        city08  \\\n",
       "count  42215.000000  42215.000000    42215.0  42215.000000  42215.000000   \n",
       "mean      17.210409      0.221828        0.0      0.054338     18.508895   \n",
       "std        4.647671      1.143207        0.0      0.663252      8.348540   \n",
       "min        0.060000      0.000000        0.0      0.000000      6.000000   \n",
       "25%       14.330870      0.000000        0.0      0.000000     15.000000   \n",
       "50%       16.480500      0.000000        0.0      0.000000     17.000000   \n",
       "75%       19.388824      0.000000        0.0      0.000000     21.000000   \n",
       "max       47.087143     18.311667        0.0     13.000000    150.000000   \n",
       "\n",
       "            city08U       cityA08      cityA08U        cityCD         cityE  \\\n",
       "count  42215.000000  42215.000000  42215.000000  42215.000000  42215.000000   \n",
       "mean       6.432943      0.724577      0.582791      0.000450      0.393229   \n",
       "std       12.171618      5.650156      5.520516      0.038279      4.231651   \n",
       "min        0.000000      0.000000      0.000000      0.000000      0.000000   \n",
       "25%        0.000000      0.000000      0.000000      0.000000      0.000000   \n",
       "50%        0.000000      0.000000      0.000000      0.000000      0.000000   \n",
       "75%       15.000000      0.000000      0.000000      0.000000      0.000000   \n",
       "max      150.000000    145.000000    145.083500      5.350000    122.000000   \n",
       "\n",
       "       ...         UCity        UCityA      UHighway     UHighwayA  \\\n",
       "count  ...  42215.000000  42215.000000  42215.000000  42215.000000   \n",
       "mean   ...     23.404218      0.946066     34.549509      1.226881   \n",
       "std    ...     11.870560      7.944577     11.655846      8.326655   \n",
       "min    ...      0.000000      0.000000      0.000000      0.000000   \n",
       "25%    ...     18.300000      0.000000     28.000000      0.000000   \n",
       "50%    ...     21.500000      0.000000     33.333300      0.000000   \n",
       "75%    ...     26.000000      0.000000     39.100000      0.000000   \n",
       "max    ...    224.800000    207.262200    187.100000    173.143600   \n",
       "\n",
       "               year  youSaveSpend    charge240b      phevCity       phevHwy  \\\n",
       "count  42215.000000  42215.000000  42215.000000  42215.000000  42215.000000   \n",
       "mean    2002.004761  -3170.431126      0.012588      0.190264      0.191756   \n",
       "std       11.378644   2553.396936      0.278748      3.231757      3.123509   \n",
       "min     1984.000000 -23000.000000      0.000000      0.000000      0.000000   \n",
       "25%     1991.000000  -4750.000000      0.000000      0.000000      0.000000   \n",
       "50%     2003.000000  -2750.000000      0.000000      0.000000      0.000000   \n",
       "75%     2012.000000  -1250.000000      0.000000      0.000000      0.000000   \n",
       "max     2021.000000   3000.000000      8.500000     97.000000     81.000000   \n",
       "\n",
       "           phevComb  \n",
       "count  42215.000000  \n",
       "mean       0.190098  \n",
       "std        3.162830  \n",
       "min        0.000000  \n",
       "25%        0.000000  \n",
       "50%        0.000000  \n",
       "75%        0.000000  \n",
       "max       88.000000  \n",
       "\n",
       "[8 rows x 59 columns]"
      ]
     },
     "execution_count": 106,
     "metadata": {},
     "output_type": "execute_result"
    }
   ],
   "source": [
    "df.describe(include=['int','float'])"
   ]
  },
  {
   "cell_type": "code",
   "execution_count": 107,
   "metadata": {},
   "outputs": [
    {
     "name": "stderr",
     "output_type": "stream",
     "text": [
      "C:\\Users\\tabis\\AppData\\Local\\Temp\\ipykernel_12536\\58359773.py:1: FutureWarning: The default value of numeric_only in DataFrame.corr is deprecated. In a future version, it will default to False. Select only valid columns or specify the value of numeric_only to silence this warning.\n",
      "  sns.heatmap(df.corr())\n"
     ]
    },
    {
     "data": {
      "text/plain": [
       "<Axes: >"
      ]
     },
     "execution_count": 107,
     "metadata": {},
     "output_type": "execute_result"
    },
    {
     "data": {
      "image/png": "[encoded data removed]",
      "text/plain": [
       "<Figure size 640x480 with 2 Axes>"
      ]
     },
     "metadata": {},
     "output_type": "display_data"
    }
   ],
   "source": [
    "sns.heatmap(df.corr())"
   ]
  },
  {
   "cell_type": "code",
   "execution_count": 108,
   "metadata": {},
   "outputs": [
    {
     "name": "stderr",
     "output_type": "stream",
     "text": [
      "C:\\Users\\tabis\\AppData\\Local\\Temp\\ipykernel_12536\\3172431781.py:1: FutureWarning: The default value of numeric_only in DataFrame.corr is deprecated. In a future version, it will default to False. Select only valid columns or specify the value of numeric_only to silence this warning.\n",
      "  results = df.corr()\n"
     ]
    }
   ],
   "source": [
    "results = df.corr()"
   ]
  },
  {
   "cell_type": "code",
   "execution_count": 109,
   "metadata": {
    "tags": []
   },
   "outputs": [
    {
     "data": {
      "text/plain": [
       "<Axes: >"
      ]
     },
     "execution_count": 109,
     "metadata": {},
     "output_type": "execute_result"
    },
    {
     "data": {
      "image/png": "[encoded data removed]",
      "text/plain": [
       "<Figure size 1200x500 with 1 Axes>"
      ]
     },
     "metadata": {},
     "output_type": "display_data"
    }
   ],
   "source": [
    "results.UCity.plot(kind='bar',figsize=(12,5))"
   ]
  },
  {
   "cell_type": "code",
   "execution_count": 110,
   "metadata": {},
   "outputs": [],
   "source": [
    "features = [\n",
    "    'co2TailpipeGpm','displ','barrels08','cylinders','fuelCost08','rangeHwy','comb08U','UHighway','highway08','comb08','city08'\n",
    "]"
   ]
  },
  {
   "cell_type": "code",
   "execution_count": 111,
   "metadata": {},
   "outputs": [],
   "source": [
    "X = df[features]"
   ]
  },
  {
   "cell_type": "code",
   "execution_count": 112,
   "metadata": {},
   "outputs": [
    {
     "data": {
      "text/html": [
       "<div>\n",
       "<style scoped>\n",
       "    .dataframe tbody tr th:only-of-type {\n",
       "        vertical-align: middle;\n",
       "    }\n",
       "\n",
       "    .dataframe tbody tr th {\n",
       "        vertical-align: top;\n",
       "    }\n",
       "\n",
       "    .dataframe thead th {\n",
       "        text-align: right;\n",
       "    }\n",
       "</style>\n",
       "<table border=\"1\" class=\"dataframe\">\n",
       "  <thead>\n",
       "    <tr style=\"text-align: right;\">\n",
       "      <th></th>\n",
       "      <th>co2TailpipeGpm</th>\n",
       "      <th>displ</th>\n",
       "      <th>barrels08</th>\n",
       "      <th>cylinders</th>\n",
       "      <th>fuelCost08</th>\n",
       "      <th>rangeHwy</th>\n",
       "      <th>comb08U</th>\n",
       "      <th>UHighway</th>\n",
       "      <th>highway08</th>\n",
       "      <th>comb08</th>\n",
       "      <th>city08</th>\n",
       "    </tr>\n",
       "  </thead>\n",
       "  <tbody>\n",
       "    <tr>\n",
       "      <th>count</th>\n",
       "      <td>42215.000000</td>\n",
       "      <td>41978.000000</td>\n",
       "      <td>42215.000000</td>\n",
       "      <td>41976.000000</td>\n",
       "      <td>42215.000000</td>\n",
       "      <td>42215.000000</td>\n",
       "      <td>42215.000000</td>\n",
       "      <td>42215.000000</td>\n",
       "      <td>42215.000000</td>\n",
       "      <td>42215.000000</td>\n",
       "      <td>42215.000000</td>\n",
       "    </tr>\n",
       "    <tr>\n",
       "      <th>mean</th>\n",
       "      <td>464.331951</td>\n",
       "      <td>3.289654</td>\n",
       "      <td>17.210409</td>\n",
       "      <td>5.713598</td>\n",
       "      <td>1684.796873</td>\n",
       "      <td>0.905256</td>\n",
       "      <td>7.164687</td>\n",
       "      <td>34.549509</td>\n",
       "      <td>24.637901</td>\n",
       "      <td>20.753737</td>\n",
       "      <td>18.508895</td>\n",
       "    </tr>\n",
       "    <tr>\n",
       "      <th>std</th>\n",
       "      <td>124.332649</td>\n",
       "      <td>1.356746</td>\n",
       "      <td>4.647671</td>\n",
       "      <td>1.757895</td>\n",
       "      <td>510.198442</td>\n",
       "      <td>14.517377</td>\n",
       "      <td>12.816751</td>\n",
       "      <td>11.655846</td>\n",
       "      <td>8.020310</td>\n",
       "      <td>8.055950</td>\n",
       "      <td>8.348540</td>\n",
       "    </tr>\n",
       "    <tr>\n",
       "      <th>min</th>\n",
       "      <td>0.000000</td>\n",
       "      <td>0.000000</td>\n",
       "      <td>0.060000</td>\n",
       "      <td>2.000000</td>\n",
       "      <td>450.000000</td>\n",
       "      <td>0.000000</td>\n",
       "      <td>0.000000</td>\n",
       "      <td>0.000000</td>\n",
       "      <td>9.000000</td>\n",
       "      <td>7.000000</td>\n",
       "      <td>6.000000</td>\n",
       "    </tr>\n",
       "    <tr>\n",
       "      <th>25%</th>\n",
       "      <td>386.391304</td>\n",
       "      <td>2.200000</td>\n",
       "      <td>14.330870</td>\n",
       "      <td>4.000000</td>\n",
       "      <td>1300.000000</td>\n",
       "      <td>0.000000</td>\n",
       "      <td>0.000000</td>\n",
       "      <td>28.000000</td>\n",
       "      <td>20.000000</td>\n",
       "      <td>17.000000</td>\n",
       "      <td>15.000000</td>\n",
       "    </tr>\n",
       "    <tr>\n",
       "      <th>50%</th>\n",
       "      <td>444.350000</td>\n",
       "      <td>3.000000</td>\n",
       "      <td>16.480500</td>\n",
       "      <td>6.000000</td>\n",
       "      <td>1600.000000</td>\n",
       "      <td>0.000000</td>\n",
       "      <td>0.000000</td>\n",
       "      <td>33.333300</td>\n",
       "      <td>24.000000</td>\n",
       "      <td>20.000000</td>\n",
       "      <td>17.000000</td>\n",
       "    </tr>\n",
       "    <tr>\n",
       "      <th>75%</th>\n",
       "      <td>522.764706</td>\n",
       "      <td>4.300000</td>\n",
       "      <td>19.388824</td>\n",
       "      <td>6.000000</td>\n",
       "      <td>2000.000000</td>\n",
       "      <td>0.000000</td>\n",
       "      <td>17.382700</td>\n",
       "      <td>39.100000</td>\n",
       "      <td>28.000000</td>\n",
       "      <td>23.000000</td>\n",
       "      <td>21.000000</td>\n",
       "    </tr>\n",
       "    <tr>\n",
       "      <th>max</th>\n",
       "      <td>1269.571429</td>\n",
       "      <td>8.400000</td>\n",
       "      <td>47.087143</td>\n",
       "      <td>16.000000</td>\n",
       "      <td>5650.000000</td>\n",
       "      <td>358.555100</td>\n",
       "      <td>140.560300</td>\n",
       "      <td>187.100000</td>\n",
       "      <td>132.000000</td>\n",
       "      <td>141.000000</td>\n",
       "      <td>150.000000</td>\n",
       "    </tr>\n",
       "  </tbody>\n",
       "</table>\n",
       "</div>"
      ],
      "text/plain": [
       "       co2TailpipeGpm         displ     barrels08     cylinders    fuelCost08  \\\n",
       "count    42215.000000  41978.000000  42215.000000  41976.000000  42215.000000   \n",
       "mean       464.331951      3.289654     17.210409      5.713598   1684.796873   \n",
       "std        124.332649      1.356746      4.647671      1.757895    510.198442   \n",
       "min          0.000000      0.000000      0.060000      2.000000    450.000000   \n",
       "25%        386.391304      2.200000     14.330870      4.000000   1300.000000   \n",
       "50%        444.350000      3.000000     16.480500      6.000000   1600.000000   \n",
       "75%        522.764706      4.300000     19.388824      6.000000   2000.000000   \n",
       "max       1269.571429      8.400000     47.087143     16.000000   5650.000000   \n",
       "\n",
       "           rangeHwy       comb08U      UHighway     highway08        comb08  \\\n",
       "count  42215.000000  42215.000000  42215.000000  42215.000000  42215.000000   \n",
       "mean       0.905256      7.164687     34.549509     24.637901     20.753737   \n",
       "std       14.517377     12.816751     11.655846      8.020310      8.055950   \n",
       "min        0.000000      0.000000      0.000000      9.000000      7.000000   \n",
       "25%        0.000000      0.000000     28.000000     20.000000     17.000000   \n",
       "50%        0.000000      0.000000     33.333300     24.000000     20.000000   \n",
       "75%        0.000000     17.382700     39.100000     28.000000     23.000000   \n",
       "max      358.555100    140.560300    187.100000    132.000000    141.000000   \n",
       "\n",
       "             city08  \n",
       "count  42215.000000  \n",
       "mean      18.508895  \n",
       "std        8.348540  \n",
       "min        6.000000  \n",
       "25%       15.000000  \n",
       "50%       17.000000  \n",
       "75%       21.000000  \n",
       "max      150.000000  "
      ]
     },
     "execution_count": 112,
     "metadata": {},
     "output_type": "execute_result"
    }
   ],
   "source": [
    "X.describe()"
   ]
  },
  {
   "cell_type": "code",
   "execution_count": 113,
   "metadata": {},
   "outputs": [
    {
     "name": "stderr",
     "output_type": "stream",
     "text": [
      "C:\\Users\\tabis\\AppData\\Local\\Temp\\ipykernel_12536\\1033324211.py:1: SettingWithCopyWarning: \n",
      "A value is trying to be set on a copy of a slice from a DataFrame\n",
      "\n",
      "See the caveats in the documentation: https://pandas.pydata.org/pandas-docs/stable/user_guide/indexing.html#returning-a-view-versus-a-copy\n",
      "  X.cylinders.replace(np.nan, X.cylinders.mean(),inplace=True)\n"
     ]
    }
   ],
   "source": [
    "X.cylinders.replace(np.nan, X.cylinders.mean(),inplace=True)"
   ]
  },
  {
   "cell_type": "code",
   "execution_count": 114,
   "metadata": {
    "tags": []
   },
   "outputs": [
    {
     "name": "stdout",
     "output_type": "stream",
     "text": [
      "False    42215\n",
      "Name: co2TailpipeGpm, dtype: int64\n",
      "\n",
      "False    41978\n",
      "True       237\n",
      "Name: displ, dtype: int64\n",
      "\n",
      "False    42215\n",
      "Name: barrels08, dtype: int64\n",
      "\n",
      "False    42215\n",
      "Name: cylinders, dtype: int64\n",
      "\n",
      "False    42215\n",
      "Name: fuelCost08, dtype: int64\n",
      "\n",
      "False    42215\n",
      "Name: rangeHwy, dtype: int64\n",
      "\n",
      "False    42215\n",
      "Name: comb08U, dtype: int64\n",
      "\n",
      "False    42215\n",
      "Name: UHighway, dtype: int64\n",
      "\n",
      "False    42215\n",
      "Name: highway08, dtype: int64\n",
      "\n",
      "False    42215\n",
      "Name: comb08, dtype: int64\n",
      "\n",
      "False    42215\n",
      "Name: city08, dtype: int64\n",
      "\n"
     ]
    }
   ],
   "source": [
    "nullval = X.isnull()\n",
    "for col in nullval.columns:\n",
    "    print(nullval[col].value_counts())\n",
    "    print()\n",
    "# displ col h null values"
   ]
  },
  {
   "cell_type": "code",
   "execution_count": 115,
   "metadata": {},
   "outputs": [
    {
     "name": "stderr",
     "output_type": "stream",
     "text": [
      "C:\\Users\\tabis\\AppData\\Local\\Temp\\ipykernel_12536\\3494856475.py:1: SettingWithCopyWarning: \n",
      "A value is trying to be set on a copy of a slice from a DataFrame\n",
      "\n",
      "See the caveats in the documentation: https://pandas.pydata.org/pandas-docs/stable/user_guide/indexing.html#returning-a-view-versus-a-copy\n",
      "  X.displ.replace(np.nan, X.displ.mean(),inplace=True)\n"
     ]
    }
   ],
   "source": [
    "X.displ.replace(np.nan, X.displ.mean(),inplace=True)"
   ]
  },
  {
   "cell_type": "code",
   "execution_count": 116,
   "metadata": {},
   "outputs": [],
   "source": [
    "y = df.UCity"
   ]
  },
  {
   "cell_type": "code",
   "execution_count": 117,
   "metadata": {},
   "outputs": [],
   "source": [
    "scaler = StandardScaler()\n",
    "x_scaled = scaler.fit_transform(X)"
   ]
  },
  {
   "cell_type": "code",
   "execution_count": 118,
   "metadata": {},
   "outputs": [],
   "source": [
    "xtrain, xtest, ytrain, ytest = train_test_split(x_scaled, y, test_size=.2, random_state=0)"
   ]
  },
  {
   "cell_type": "code",
   "execution_count": 119,
   "metadata": {},
   "outputs": [],
   "source": [
    "model = RandomForestRegressor()"
   ]
  },
  {
   "cell_type": "code",
   "execution_count": 120,
   "metadata": {},
   "outputs": [
    {
     "data": {
      "text/html": [
       "<style>#sk-container-id-7 {color: black;}#sk-container-id-7 pre{padding: 0;}#sk-container-id-7 div.sk-toggleable {background-color: white;}#sk-container-id-7 label.sk-toggleable__label {cursor: pointer;display: block;width: 100%;margin-bottom: 0;padding: 0.3em;box-sizing: border-box;text-align: center;}#sk-container-id-7 label.sk-toggleable__label-arrow:before {content: \"▸\";float: left;margin-right: 0.25em;color: #696969;}#sk-container-id-7 label.sk-toggleable__label-arrow:hover:before {color: black;}#sk-container-id-7 div.sk-estimator:hover label.sk-toggleable__label-arrow:before {color: black;}#sk-container-id-7 div.sk-toggleable__content {max-height: 0;max-width: 0;overflow: hidden;text-align: left;background-color: #f0f8ff;}#sk-container-id-7 div.sk-toggleable__content pre {margin: 0.2em;color: black;border-radius: 0.25em;background-color: #f0f8ff;}#sk-container-id-7 input.sk-toggleable__control:checked~div.sk-toggleable__content {max-height: 200px;max-width: 100%;overflow: auto;}#sk-container-id-7 input.sk-toggleable__control:checked~label.sk-toggleable__label-arrow:before {content: \"▾\";}#sk-container-id-7 div.sk-estimator input.sk-toggleable__control:checked~label.sk-toggleable__label {background-color: #d4ebff;}#sk-container-id-7 div.sk-label input.sk-toggleable__control:checked~label.sk-toggleable__label {background-color: #d4ebff;}#sk-container-id-7 input.sk-hidden--visually {border: 0;clip: rect(1px 1px 1px 1px);clip: rect(1px, 1px, 1px, 1px);height: 1px;margin: -1px;overflow: hidden;padding: 0;position: absolute;width: 1px;}#sk-container-id-7 div.sk-estimator {font-family: monospace;background-color: #f0f8ff;border: 1px dotted black;border-radius: 0.25em;box-sizing: border-box;margin-bottom: 0.5em;}#sk-container-id-7 div.sk-estimator:hover {background-color: #d4ebff;}#sk-container-id-7 div.sk-parallel-item::after {content: \"\";width: 100%;border-bottom: 1px solid gray;flex-grow: 1;}#sk-container-id-7 div.sk-label:hover label.sk-toggleable__label {background-color: #d4ebff;}#sk-container-id-7 div.sk-serial::before {content: \"\";position: absolute;border-left: 1px solid gray;box-sizing: border-box;top: 0;bottom: 0;left: 50%;z-index: 0;}#sk-container-id-7 div.sk-serial {display: flex;flex-direction: column;align-items: center;background-color: white;padding-right: 0.2em;padding-left: 0.2em;position: relative;}#sk-container-id-7 div.sk-item {position: relative;z-index: 1;}#sk-container-id-7 div.sk-parallel {display: flex;align-items: stretch;justify-content: center;background-color: white;position: relative;}#sk-container-id-7 div.sk-item::before, #sk-container-id-7 div.sk-parallel-item::before {content: \"\";position: absolute;border-left: 1px solid gray;box-sizing: border-box;top: 0;bottom: 0;left: 50%;z-index: -1;}#sk-container-id-7 div.sk-parallel-item {display: flex;flex-direction: column;z-index: 1;position: relative;background-color: white;}#sk-container-id-7 div.sk-parallel-item:first-child::after {align-self: flex-end;width: 50%;}#sk-container-id-7 div.sk-parallel-item:last-child::after {align-self: flex-start;width: 50%;}#sk-container-id-7 div.sk-parallel-item:only-child::after {width: 0;}#sk-container-id-7 div.sk-dashed-wrapped {border: 1px dashed gray;margin: 0 0.4em 0.5em 0.4em;box-sizing: border-box;padding-bottom: 0.4em;background-color: white;}#sk-container-id-7 div.sk-label label {font-family: monospace;font-weight: bold;display: inline-block;line-height: 1.2em;}#sk-container-id-7 div.sk-label-container {text-align: center;}#sk-container-id-7 div.sk-container {/* jupyter's `normalize.less` sets `[hidden] { display: none; }` but bootstrap.min.css set `[hidden] { display: none !important; }` so we also need the `!important` here to be able to override the default hidden behavior on the sphinx rendered scikit-learn.org. See: https://github.com/scikit-learn/scikit-learn/issues/21755 */display: inline-block !important;position: relative;}#sk-container-id-7 div.sk-text-repr-fallback {display: none;}</style><div id=\"sk-container-id-7\" class=\"sk-top-container\"><div class=\"sk-text-repr-fallback\"><pre>RandomForestRegressor()</pre><b>In a Jupyter environment, please rerun this cell to show the HTML representation or trust the notebook. <br />On GitHub, the HTML representation is unable to render, please try loading this page with nbviewer.org.</b></div><div class=\"sk-container\" hidden><div class=\"sk-item\"><div class=\"sk-estimator sk-toggleable\"><input class=\"sk-toggleable__control sk-hidden--visually\" id=\"sk-estimator-id-7\" type=\"checkbox\" checked><label for=\"sk-estimator-id-7\" class=\"sk-toggleable__label sk-toggleable__label-arrow\">RandomForestRegressor</label><div class=\"sk-toggleable__content\"><pre>RandomForestRegressor()</pre></div></div></div></div></div>"
      ],
      "text/plain": [
       "RandomForestRegressor()"
      ]
     },
     "execution_count": 120,
     "metadata": {},
     "output_type": "execute_result"
    }
   ],
   "source": [
    "model.fit(xtrain,ytrain)"
   ]
  },
  {
   "cell_type": "code",
   "execution_count": 121,
   "metadata": {},
   "outputs": [
    {
     "data": {
      "text/plain": [
       "0.9986822341091787"
      ]
     },
     "execution_count": 121,
     "metadata": {},
     "output_type": "execute_result"
    }
   ],
   "source": [
    "model.score(xtest,ytest)"
   ]
  },
  {
   "cell_type": "code",
   "execution_count": 122,
   "metadata": {},
   "outputs": [
    {
     "data": {
      "text/html": [
       "<style>#sk-container-id-8 {color: black;}#sk-container-id-8 pre{padding: 0;}#sk-container-id-8 div.sk-toggleable {background-color: white;}#sk-container-id-8 label.sk-toggleable__label {cursor: pointer;display: block;width: 100%;margin-bottom: 0;padding: 0.3em;box-sizing: border-box;text-align: center;}#sk-container-id-8 label.sk-toggleable__label-arrow:before {content: \"▸\";float: left;margin-right: 0.25em;color: #696969;}#sk-container-id-8 label.sk-toggleable__label-arrow:hover:before {color: black;}#sk-container-id-8 div.sk-estimator:hover label.sk-toggleable__label-arrow:before {color: black;}#sk-container-id-8 div.sk-toggleable__content {max-height: 0;max-width: 0;overflow: hidden;text-align: left;background-color: #f0f8ff;}#sk-container-id-8 div.sk-toggleable__content pre {margin: 0.2em;color: black;border-radius: 0.25em;background-color: #f0f8ff;}#sk-container-id-8 input.sk-toggleable__control:checked~div.sk-toggleable__content {max-height: 200px;max-width: 100%;overflow: auto;}#sk-container-id-8 input.sk-toggleable__control:checked~label.sk-toggleable__label-arrow:before {content: \"▾\";}#sk-container-id-8 div.sk-estimator input.sk-toggleable__control:checked~label.sk-toggleable__label {background-color: #d4ebff;}#sk-container-id-8 div.sk-label input.sk-toggleable__control:checked~label.sk-toggleable__label {background-color: #d4ebff;}#sk-container-id-8 input.sk-hidden--visually {border: 0;clip: rect(1px 1px 1px 1px);clip: rect(1px, 1px, 1px, 1px);height: 1px;margin: -1px;overflow: hidden;padding: 0;position: absolute;width: 1px;}#sk-container-id-8 div.sk-estimator {font-family: monospace;background-color: #f0f8ff;border: 1px dotted black;border-radius: 0.25em;box-sizing: border-box;margin-bottom: 0.5em;}#sk-container-id-8 div.sk-estimator:hover {background-color: #d4ebff;}#sk-container-id-8 div.sk-parallel-item::after {content: \"\";width: 100%;border-bottom: 1px solid gray;flex-grow: 1;}#sk-container-id-8 div.sk-label:hover label.sk-toggleable__label {background-color: #d4ebff;}#sk-container-id-8 div.sk-serial::before {content: \"\";position: absolute;border-left: 1px solid gray;box-sizing: border-box;top: 0;bottom: 0;left: 50%;z-index: 0;}#sk-container-id-8 div.sk-serial {display: flex;flex-direction: column;align-items: center;background-color: white;padding-right: 0.2em;padding-left: 0.2em;position: relative;}#sk-container-id-8 div.sk-item {position: relative;z-index: 1;}#sk-container-id-8 div.sk-parallel {display: flex;align-items: stretch;justify-content: center;background-color: white;position: relative;}#sk-container-id-8 div.sk-item::before, #sk-container-id-8 div.sk-parallel-item::before {content: \"\";position: absolute;border-left: 1px solid gray;box-sizing: border-box;top: 0;bottom: 0;left: 50%;z-index: -1;}#sk-container-id-8 div.sk-parallel-item {display: flex;flex-direction: column;z-index: 1;position: relative;background-color: white;}#sk-container-id-8 div.sk-parallel-item:first-child::after {align-self: flex-end;width: 50%;}#sk-container-id-8 div.sk-parallel-item:last-child::after {align-self: flex-start;width: 50%;}#sk-container-id-8 div.sk-parallel-item:only-child::after {width: 0;}#sk-container-id-8 div.sk-dashed-wrapped {border: 1px dashed gray;margin: 0 0.4em 0.5em 0.4em;box-sizing: border-box;padding-bottom: 0.4em;background-color: white;}#sk-container-id-8 div.sk-label label {font-family: monospace;font-weight: bold;display: inline-block;line-height: 1.2em;}#sk-container-id-8 div.sk-label-container {text-align: center;}#sk-container-id-8 div.sk-container {/* jupyter's `normalize.less` sets `[hidden] { display: none; }` but bootstrap.min.css set `[hidden] { display: none !important; }` so we also need the `!important` here to be able to override the default hidden behavior on the sphinx rendered scikit-learn.org. See: https://github.com/scikit-learn/scikit-learn/issues/21755 */display: inline-block !important;position: relative;}#sk-container-id-8 div.sk-text-repr-fallback {display: none;}</style><div id=\"sk-container-id-8\" class=\"sk-top-container\"><div class=\"sk-text-repr-fallback\"><pre>RandomForestRegressor()</pre><b>In a Jupyter environment, please rerun this cell to show the HTML representation or trust the notebook. <br />On GitHub, the HTML representation is unable to render, please try loading this page with nbviewer.org.</b></div><div class=\"sk-container\" hidden><div class=\"sk-item\"><div class=\"sk-estimator sk-toggleable\"><input class=\"sk-toggleable__control sk-hidden--visually\" id=\"sk-estimator-id-8\" type=\"checkbox\" checked><label for=\"sk-estimator-id-8\" class=\"sk-toggleable__label sk-toggleable__label-arrow\">RandomForestRegressor</label><div class=\"sk-toggleable__content\"><pre>RandomForestRegressor()</pre></div></div></div></div></div>"
      ],
      "text/plain": [
       "RandomForestRegressor()"
      ]
     },
     "execution_count": 122,
     "metadata": {},
     "output_type": "execute_result"
    }
   ],
   "source": [
    "model.fit(x_scaled, y) # full data training"
   ]
  },
  {
   "cell_type": "code",
   "execution_count": 123,
   "metadata": {},
   "outputs": [
    {
     "data": {
      "text/plain": [
       "0.9997456353814013"
      ]
     },
     "execution_count": 123,
     "metadata": {},
     "output_type": "execute_result"
    }
   ],
   "source": [
    "model.score(xtest,ytest)"
   ]
  },
  {
   "cell_type": "code",
   "execution_count": 124,
   "metadata": {},
   "outputs": [],
   "source": [
    "import pickle\n",
    "with open('model.pk','wb') as file:\n",
    "    pickle.dump(model, file)"
   ]
  },
  {
   "cell_type": "code",
   "execution_count": 125,
   "metadata": {},
   "outputs": [],
   "source": [
    "import pickle\n",
    "with open('scaler.pk','wb') as file:\n",
    "    pickle.dump(scaler, file)"
   ]
  },
  {
   "cell_type": "code",
   "execution_count": null,
   "metadata": {},
   "outputs": [],
   "source": []
  },
  {
   "cell_type": "code",
   "execution_count": null,
   "metadata": {},
   "outputs": [],
   "source": []
  }
 ],
 "metadata": {
  "kernelspec": {
   "display_name": "Python 3.8.5 64-bit ('base': conda)",
   "name": "python385jvsc74a57bd087d30d38d8b97526cc49dca6fadb118e9942cc4aa28d158e5554e3e5bfcc2be6"
  },
  "language_info": {
   "codemirror_mode": {
    "name": "ipython",
    "version": 3
   },
   "file_extension": ".py",
   "mimetype": "text/x-python",
   "name": "python",
   "nbconvert_exporter": "python",
   "pygments_lexer": "ipython3",
   "version": "3.8.5"
  },
  "orig_nbformat": 2
 },
 "nbformat": 4,
 "nbformat_minor": 2
}
